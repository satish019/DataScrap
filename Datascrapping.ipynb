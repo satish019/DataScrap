{
 "cells": [
  {
   "cell_type": "code",
   "execution_count": null,
   "id": "f7dfa817-b632-421e-b7e4-8fc3c7b15f9c",
   "metadata": {},
   "outputs": [],
   "source": [
    "\n",
    "import pandas as pd\n",
    "\n",
    "# Load the CSV file\n",
    "data = pd.read_csv('colleges.csv')\n",
    "\n",
    "# Preview the data\n",
    "print(data.head())\n",
    "\n",
    "# Analyze data\n",
    "print(\"Number of colleges:\", len(data))\n",
    "print(\"Unique cities:\", data['City'].nunique())  # Replace 'City' with actual column name\n",
    "\n",
    "# Filter by a condition (e.g., colleges in Dehradun)\n",
    "dehradun_colleges = data[data['City'] == 'Dehradun']\n",
    "print(dehradun_colleges)"
   ]
  },
  {
   "cell_type": "code",
   "execution_count": null,
   "id": "9dc208c7-c496-47a7-b4f9-0e6405262418",
   "metadata": {},
   "outputs": [],
   "source": [
    "import matplotlib.pyplot as plt\n",
    "\n",
    "# Example: Count of colleges per city\n",
    "city_counts = data['City'].value_counts()  # Replace 'City' with actual column name\n",
    "city_counts.plot(kind='bar', figsize=(10, 5))\n",
    "plt.title('Number of Colleges by City')\n",
    "plt.xlabel('City')\n",
    "plt.ylabel('Count')\n",
    "plt.show()\n"
   ]
  },
  {
   "cell_type": "code",
   "execution_count": null,
   "id": "0d683652-e40b-4920-a239-eac59b56d0a8",
   "metadata": {},
   "outputs": [],
   "source": []
  }
 ],
 "metadata": {
  "kernelspec": {
   "display_name": "Python [conda env:base] *",
   "language": "python",
   "name": "conda-base-py"
  },
  "language_info": {
   "codemirror_mode": {
    "name": "ipython",
    "version": 3
   },
   "file_extension": ".py",
   "mimetype": "text/x-python",
   "name": "python",
   "nbconvert_exporter": "python",
   "pygments_lexer": "ipython3",
   "version": "3.12.7"
  }
 },
 "nbformat": 4,
 "nbformat_minor": 5
}
